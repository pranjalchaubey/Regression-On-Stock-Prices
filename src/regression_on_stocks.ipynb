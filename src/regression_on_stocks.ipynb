{
 "cells": [
  {
   "cell_type": "markdown",
   "metadata": {},
   "source": [
    "# Applying Regression on Stock Prices  \n",
    "In this notebook we will be applying a number of regression algorithms present in the Scikit Learn library. \n"
   ]
  },
  {
   "cell_type": "code",
   "execution_count": 24,
   "metadata": {},
   "outputs": [],
   "source": [
    "%config IPCompleter.greedy=True"
   ]
  },
  {
   "cell_type": "code",
   "execution_count": 3,
   "metadata": {},
   "outputs": [],
   "source": [
    "# Lets import a few important libraries first\n",
    "import numpy as np \n",
    "import pandas as pd\n",
    "import matplotlib.pyplot as plt\n",
    "import pandas_profiling \n"
   ]
  },
  {
   "cell_type": "code",
   "execution_count": 4,
   "metadata": {},
   "outputs": [],
   "source": [
    "# yFinance will help us fetch the data for our dataset\n",
    "import yfinance as yf"
   ]
  },
  {
   "cell_type": "markdown",
   "metadata": {},
   "source": [
    "## Fetch Data from Yahoo Finance\n",
    "Time to fetch some data from Yahoo!. We are going to pull 5 years price data of  \n",
    "FAANG - Facebook Apple Amazon Netflix Google  \n"
   ]
  },
  {
   "cell_type": "code",
   "execution_count": 29,
   "metadata": {},
   "outputs": [
    {
     "name": "stdout",
     "output_type": "stream",
     "text": [
      "[*********************100%***********************]  1 of 1 downloaded\n",
      "[*********************100%***********************]  1 of 1 downloaded\n",
      "[*********************100%***********************]  1 of 1 downloaded\n",
      "[*********************100%***********************]  1 of 1 downloaded\n",
      "[*********************100%***********************]  1 of 1 downloaded\n"
     ]
    }
   ],
   "source": [
    "# Facebook\n",
    "data_FB = yf.download(\"FB\", start=\"2014-01-01\", end=\"2019-09-10\")\n",
    "# Apple\n",
    "data_AAPL = yf.download(\"AAPL\", start=\"2014-01-01\", end=\"2019-09-10\")\n",
    "# Amazon\n",
    "data_AMZN = yf.download(\"AMZN\", start=\"2014-01-01\", end=\"2019-09-10\")\n",
    "# Netflix\n",
    "data_NFLX = yf.download(\"NFLX\", start=\"2014-01-01\", end=\"2019-09-10\")\n",
    "# Google/Alphabet\n",
    "data_GOOGL = yf.download(\"GOOGL\", start=\"2014-01-01\", end=\"2019-09-10\")"
   ]
  },
  {
   "cell_type": "code",
   "execution_count": 38,
   "metadata": {},
   "outputs": [
    {
     "data": {
      "text/plain": [
       "pandas.core.frame.DataFrame"
      ]
     },
     "metadata": {},
     "output_type": "display_data"
    },
    {
     "data": {
      "text/html": [
       "<div>\n",
       "<style scoped>\n",
       "    .dataframe tbody tr th:only-of-type {\n",
       "        vertical-align: middle;\n",
       "    }\n",
       "\n",
       "    .dataframe tbody tr th {\n",
       "        vertical-align: top;\n",
       "    }\n",
       "\n",
       "    .dataframe thead th {\n",
       "        text-align: right;\n",
       "    }\n",
       "</style>\n",
       "<table border=\"1\" class=\"dataframe\">\n",
       "  <thead>\n",
       "    <tr style=\"text-align: right;\">\n",
       "      <th></th>\n",
       "      <th>Adj Close</th>\n",
       "    </tr>\n",
       "    <tr>\n",
       "      <th>Date</th>\n",
       "      <th></th>\n",
       "    </tr>\n",
       "  </thead>\n",
       "  <tbody>\n",
       "    <tr>\n",
       "      <td>2013-12-31</td>\n",
       "      <td>54.65</td>\n",
       "    </tr>\n",
       "    <tr>\n",
       "      <td>2014-01-02</td>\n",
       "      <td>54.71</td>\n",
       "    </tr>\n",
       "    <tr>\n",
       "      <td>2014-01-03</td>\n",
       "      <td>54.56</td>\n",
       "    </tr>\n",
       "    <tr>\n",
       "      <td>2014-01-06</td>\n",
       "      <td>57.20</td>\n",
       "    </tr>\n",
       "    <tr>\n",
       "      <td>2014-01-07</td>\n",
       "      <td>57.92</td>\n",
       "    </tr>\n",
       "  </tbody>\n",
       "</table>\n",
       "</div>"
      ],
      "text/plain": [
       "            Adj Close\n",
       "Date                 \n",
       "2013-12-31      54.65\n",
       "2014-01-02      54.71\n",
       "2014-01-03      54.56\n",
       "2014-01-06      57.20\n",
       "2014-01-07      57.92"
      ]
     },
     "metadata": {},
     "output_type": "display_data"
    },
    {
     "data": {
      "text/plain": [
       "(1432, 1)"
      ]
     },
     "metadata": {},
     "output_type": "display_data"
    },
    {
     "data": {
      "text/plain": [
       "(1432, 1)"
      ]
     },
     "metadata": {},
     "output_type": "display_data"
    },
    {
     "data": {
      "text/plain": [
       "(1432, 1)"
      ]
     },
     "metadata": {},
     "output_type": "display_data"
    },
    {
     "data": {
      "text/plain": [
       "(1432, 1)"
      ]
     },
     "metadata": {},
     "output_type": "display_data"
    },
    {
     "data": {
      "text/plain": [
       "(1432, 1)"
      ]
     },
     "metadata": {},
     "output_type": "display_data"
    }
   ],
   "source": [
    "# Validate the Data\n",
    "# Shape should be same\n",
    "display(type(data_FB))\n",
    "display(data_FB.head())\n",
    "display(data_FB.shape)\n",
    "display(data_AAPL.shape)\n",
    "display(data_AMZN.shape)\n",
    "display(data_NFLX.shape)\n",
    "display(data_GOOGL.shape)"
   ]
  },
  {
   "cell_type": "markdown",
   "metadata": {},
   "source": [
    "## Combine all the Dataframes  \n",
    "Let's create a single dataframe that contains date and the _Adj Close_ price for each stock."
   ]
  },
  {
   "cell_type": "code",
   "execution_count": 44,
   "metadata": {},
   "outputs": [
    {
     "data": {
      "text/html": [
       "<div>\n",
       "<style scoped>\n",
       "    .dataframe tbody tr th:only-of-type {\n",
       "        vertical-align: middle;\n",
       "    }\n",
       "\n",
       "    .dataframe tbody tr th {\n",
       "        vertical-align: top;\n",
       "    }\n",
       "\n",
       "    .dataframe thead th {\n",
       "        text-align: right;\n",
       "    }\n",
       "</style>\n",
       "<table border=\"1\" class=\"dataframe\">\n",
       "  <thead>\n",
       "    <tr style=\"text-align: right;\">\n",
       "      <th></th>\n",
       "      <th>GOOGL</th>\n",
       "      <th>AAPL</th>\n",
       "      <th>AMZN</th>\n",
       "      <th>FB</th>\n",
       "      <th>NFLX</th>\n",
       "    </tr>\n",
       "    <tr>\n",
       "      <th>Date</th>\n",
       "      <th></th>\n",
       "      <th></th>\n",
       "      <th></th>\n",
       "      <th></th>\n",
       "      <th></th>\n",
       "    </tr>\n",
       "  </thead>\n",
       "  <tbody>\n",
       "    <tr>\n",
       "      <td>2013-12-31</td>\n",
       "      <td>560.92</td>\n",
       "      <td>72.34</td>\n",
       "      <td>398.79</td>\n",
       "      <td>54.65</td>\n",
       "      <td>52.60</td>\n",
       "    </tr>\n",
       "    <tr>\n",
       "      <td>2014-01-02</td>\n",
       "      <td>557.12</td>\n",
       "      <td>71.32</td>\n",
       "      <td>397.97</td>\n",
       "      <td>54.71</td>\n",
       "      <td>51.83</td>\n",
       "    </tr>\n",
       "    <tr>\n",
       "      <td>2014-01-03</td>\n",
       "      <td>553.05</td>\n",
       "      <td>69.75</td>\n",
       "      <td>396.44</td>\n",
       "      <td>54.56</td>\n",
       "      <td>51.87</td>\n",
       "    </tr>\n",
       "    <tr>\n",
       "      <td>2014-01-06</td>\n",
       "      <td>559.22</td>\n",
       "      <td>70.13</td>\n",
       "      <td>393.63</td>\n",
       "      <td>57.20</td>\n",
       "      <td>51.37</td>\n",
       "    </tr>\n",
       "    <tr>\n",
       "      <td>2014-01-07</td>\n",
       "      <td>570.00</td>\n",
       "      <td>69.63</td>\n",
       "      <td>398.03</td>\n",
       "      <td>57.92</td>\n",
       "      <td>48.50</td>\n",
       "    </tr>\n",
       "    <tr>\n",
       "      <td>...</td>\n",
       "      <td>...</td>\n",
       "      <td>...</td>\n",
       "      <td>...</td>\n",
       "      <td>...</td>\n",
       "      <td>...</td>\n",
       "    </tr>\n",
       "    <tr>\n",
       "      <td>2019-09-03</td>\n",
       "      <td>1169.55</td>\n",
       "      <td>205.70</td>\n",
       "      <td>1789.84</td>\n",
       "      <td>182.39</td>\n",
       "      <td>289.29</td>\n",
       "    </tr>\n",
       "    <tr>\n",
       "      <td>2019-09-04</td>\n",
       "      <td>1182.27</td>\n",
       "      <td>209.19</td>\n",
       "      <td>1800.62</td>\n",
       "      <td>187.14</td>\n",
       "      <td>291.52</td>\n",
       "    </tr>\n",
       "    <tr>\n",
       "      <td>2019-09-05</td>\n",
       "      <td>1212.19</td>\n",
       "      <td>213.28</td>\n",
       "      <td>1840.72</td>\n",
       "      <td>190.90</td>\n",
       "      <td>293.25</td>\n",
       "    </tr>\n",
       "    <tr>\n",
       "      <td>2019-09-06</td>\n",
       "      <td>1206.32</td>\n",
       "      <td>213.26</td>\n",
       "      <td>1833.51</td>\n",
       "      <td>187.49</td>\n",
       "      <td>290.17</td>\n",
       "    </tr>\n",
       "    <tr>\n",
       "      <td>2019-09-09</td>\n",
       "      <td>1205.27</td>\n",
       "      <td>214.17</td>\n",
       "      <td>1831.35</td>\n",
       "      <td>188.76</td>\n",
       "      <td>294.34</td>\n",
       "    </tr>\n",
       "  </tbody>\n",
       "</table>\n",
       "<p>1432 rows × 5 columns</p>\n",
       "</div>"
      ],
      "text/plain": [
       "              GOOGL    AAPL     AMZN      FB    NFLX\n",
       "Date                                                \n",
       "2013-12-31   560.92   72.34   398.79   54.65   52.60\n",
       "2014-01-02   557.12   71.32   397.97   54.71   51.83\n",
       "2014-01-03   553.05   69.75   396.44   54.56   51.87\n",
       "2014-01-06   559.22   70.13   393.63   57.20   51.37\n",
       "2014-01-07   570.00   69.63   398.03   57.92   48.50\n",
       "...             ...     ...      ...     ...     ...\n",
       "2019-09-03  1169.55  205.70  1789.84  182.39  289.29\n",
       "2019-09-04  1182.27  209.19  1800.62  187.14  291.52\n",
       "2019-09-05  1212.19  213.28  1840.72  190.90  293.25\n",
       "2019-09-06  1206.32  213.26  1833.51  187.49  290.17\n",
       "2019-09-09  1205.27  214.17  1831.35  188.76  294.34\n",
       "\n",
       "[1432 rows x 5 columns]"
      ]
     },
     "metadata": {},
     "output_type": "display_data"
    }
   ],
   "source": [
    "# Drop all columns except for the Adj Close price \n",
    "data_FB = data_FB[['Adj Close']]\n",
    "data_AAPL = data_AAPL[['Adj Close']]\n",
    "data_AMZN = data_AMZN[['Adj Close']]\n",
    "data_NFLX = data_NFLX[['Adj Close']]\n",
    "data_GOOGL = data_GOOGL[['Adj Close']]\n",
    "\n",
    "# Merge the Dataframes\n",
    "stock_data = data_GOOGL.merge(data_AAPL, on='Date', how='left')\\\n",
    "            .merge(data_AMZN, on='Date', how='left')\\\n",
    "            .merge(data_FB, on='Date', how='left')\\\n",
    "            .merge(data_NFLX, on='Date', how='left')\n",
    "# Fix the column names \n",
    "stock_data.columns = ['GOOGL', 'AAPL', 'AMZN', 'FB', 'NFLX']\n",
    "display(stock_data)"
   ]
  },
  {
   "cell_type": "markdown",
   "metadata": {},
   "source": [
    "## Calculate Daily Returns \n",
    "Instead of directly working with the stock prices, we are going to calculate the _log of Daily Returns_.  \n",
    "We are going to try and predict the log returns instead of closing prices. "
   ]
  },
  {
   "cell_type": "code",
   "execution_count": 52,
   "metadata": {},
   "outputs": [
    {
     "data": {
      "text/plain": [
       "(1431, 5)"
      ]
     },
     "metadata": {},
     "output_type": "display_data"
    },
    {
     "data": {
      "text/html": [
       "<div>\n",
       "<style scoped>\n",
       "    .dataframe tbody tr th:only-of-type {\n",
       "        vertical-align: middle;\n",
       "    }\n",
       "\n",
       "    .dataframe tbody tr th {\n",
       "        vertical-align: top;\n",
       "    }\n",
       "\n",
       "    .dataframe thead th {\n",
       "        text-align: right;\n",
       "    }\n",
       "</style>\n",
       "<table border=\"1\" class=\"dataframe\">\n",
       "  <thead>\n",
       "    <tr style=\"text-align: right;\">\n",
       "      <th></th>\n",
       "      <th>GOOGL</th>\n",
       "      <th>AAPL</th>\n",
       "      <th>AMZN</th>\n",
       "      <th>FB</th>\n",
       "      <th>NFLX</th>\n",
       "    </tr>\n",
       "    <tr>\n",
       "      <th>Date</th>\n",
       "      <th></th>\n",
       "      <th></th>\n",
       "      <th></th>\n",
       "      <th></th>\n",
       "      <th></th>\n",
       "    </tr>\n",
       "  </thead>\n",
       "  <tbody>\n",
       "    <tr>\n",
       "      <td>2014-01-02</td>\n",
       "      <td>-0.006775</td>\n",
       "      <td>-0.014100</td>\n",
       "      <td>-0.002056</td>\n",
       "      <td>0.001098</td>\n",
       "      <td>-0.014639</td>\n",
       "    </tr>\n",
       "    <tr>\n",
       "      <td>2014-01-03</td>\n",
       "      <td>-0.007305</td>\n",
       "      <td>-0.022013</td>\n",
       "      <td>-0.003845</td>\n",
       "      <td>-0.002742</td>\n",
       "      <td>0.000772</td>\n",
       "    </tr>\n",
       "    <tr>\n",
       "      <td>2014-01-06</td>\n",
       "      <td>0.011156</td>\n",
       "      <td>0.005448</td>\n",
       "      <td>-0.007088</td>\n",
       "      <td>0.048387</td>\n",
       "      <td>-0.009639</td>\n",
       "    </tr>\n",
       "    <tr>\n",
       "      <td>2014-01-07</td>\n",
       "      <td>0.019277</td>\n",
       "      <td>-0.007130</td>\n",
       "      <td>0.011178</td>\n",
       "      <td>0.012587</td>\n",
       "      <td>-0.055869</td>\n",
       "    </tr>\n",
       "    <tr>\n",
       "      <td>2014-01-08</td>\n",
       "      <td>0.002088</td>\n",
       "      <td>0.006319</td>\n",
       "      <td>0.009773</td>\n",
       "      <td>0.005352</td>\n",
       "      <td>0.004330</td>\n",
       "    </tr>\n",
       "    <tr>\n",
       "      <td>...</td>\n",
       "      <td>...</td>\n",
       "      <td>...</td>\n",
       "      <td>...</td>\n",
       "      <td>...</td>\n",
       "      <td>...</td>\n",
       "    </tr>\n",
       "    <tr>\n",
       "      <td>2019-09-03</td>\n",
       "      <td>-0.017622</td>\n",
       "      <td>-0.014564</td>\n",
       "      <td>0.007628</td>\n",
       "      <td>-0.017666</td>\n",
       "      <td>-0.015183</td>\n",
       "    </tr>\n",
       "    <tr>\n",
       "      <td>2019-09-04</td>\n",
       "      <td>0.010876</td>\n",
       "      <td>0.016966</td>\n",
       "      <td>0.006023</td>\n",
       "      <td>0.026043</td>\n",
       "      <td>0.007709</td>\n",
       "    </tr>\n",
       "    <tr>\n",
       "      <td>2019-09-05</td>\n",
       "      <td>0.025307</td>\n",
       "      <td>0.019552</td>\n",
       "      <td>0.022270</td>\n",
       "      <td>0.020092</td>\n",
       "      <td>0.005934</td>\n",
       "    </tr>\n",
       "    <tr>\n",
       "      <td>2019-09-06</td>\n",
       "      <td>-0.004842</td>\n",
       "      <td>-0.000094</td>\n",
       "      <td>-0.003917</td>\n",
       "      <td>-0.017863</td>\n",
       "      <td>-0.010503</td>\n",
       "    </tr>\n",
       "    <tr>\n",
       "      <td>2019-09-09</td>\n",
       "      <td>-0.000870</td>\n",
       "      <td>0.004267</td>\n",
       "      <td>-0.001178</td>\n",
       "      <td>0.006774</td>\n",
       "      <td>0.014371</td>\n",
       "    </tr>\n",
       "  </tbody>\n",
       "</table>\n",
       "<p>1431 rows × 5 columns</p>\n",
       "</div>"
      ],
      "text/plain": [
       "               GOOGL      AAPL      AMZN        FB      NFLX\n",
       "Date                                                        \n",
       "2014-01-02 -0.006775 -0.014100 -0.002056  0.001098 -0.014639\n",
       "2014-01-03 -0.007305 -0.022013 -0.003845 -0.002742  0.000772\n",
       "2014-01-06  0.011156  0.005448 -0.007088  0.048387 -0.009639\n",
       "2014-01-07  0.019277 -0.007130  0.011178  0.012587 -0.055869\n",
       "2014-01-08  0.002088  0.006319  0.009773  0.005352  0.004330\n",
       "...              ...       ...       ...       ...       ...\n",
       "2019-09-03 -0.017622 -0.014564  0.007628 -0.017666 -0.015183\n",
       "2019-09-04  0.010876  0.016966  0.006023  0.026043  0.007709\n",
       "2019-09-05  0.025307  0.019552  0.022270  0.020092  0.005934\n",
       "2019-09-06 -0.004842 -0.000094 -0.003917 -0.017863 -0.010503\n",
       "2019-09-09 -0.000870  0.004267 -0.001178  0.006774  0.014371\n",
       "\n",
       "[1431 rows x 5 columns]"
      ]
     },
     "metadata": {},
     "output_type": "display_data"
    }
   ],
   "source": [
    "# Stock Returns \n",
    "stock_returns = stock_data/stock_data.shift(1) - 1\n",
    "# Drop the first row (need two dates to calculate returns, so NAN returns for the first day)\n",
    "stock_returns.dropna(axis='index', how='any', inplace=True)\n",
    "display(stock_returns.shape)\n",
    "display(stock_returns)"
   ]
  },
  {
   "cell_type": "code",
   "execution_count": null,
   "metadata": {},
   "outputs": [],
   "source": []
  }
 ],
 "metadata": {
  "hide_input": false,
  "kernelspec": {
   "display_name": "siraj_week2_finance",
   "language": "python",
   "name": "siraj_week2_finance"
  },
  "language_info": {
   "codemirror_mode": {
    "name": "ipython",
    "version": 3
   },
   "file_extension": ".py",
   "mimetype": "text/x-python",
   "name": "python",
   "nbconvert_exporter": "python",
   "pygments_lexer": "ipython3",
   "version": "3.6.7"
  },
  "toc": {
   "base_numbering": 1,
   "nav_menu": {},
   "number_sections": true,
   "sideBar": true,
   "skip_h1_title": false,
   "title_cell": "Table of Contents",
   "title_sidebar": "Contents",
   "toc_cell": false,
   "toc_position": {},
   "toc_section_display": true,
   "toc_window_display": false
  },
  "varInspector": {
   "cols": {
    "lenName": 16,
    "lenType": 16,
    "lenVar": 40
   },
   "kernels_config": {
    "python": {
     "delete_cmd_postfix": "",
     "delete_cmd_prefix": "del ",
     "library": "var_list.py",
     "varRefreshCmd": "print(var_dic_list())"
    },
    "r": {
     "delete_cmd_postfix": ") ",
     "delete_cmd_prefix": "rm(",
     "library": "var_list.r",
     "varRefreshCmd": "cat(var_dic_list()) "
    }
   },
   "types_to_exclude": [
    "module",
    "function",
    "builtin_function_or_method",
    "instance",
    "_Feature"
   ],
   "window_display": false
  }
 },
 "nbformat": 4,
 "nbformat_minor": 2
}
